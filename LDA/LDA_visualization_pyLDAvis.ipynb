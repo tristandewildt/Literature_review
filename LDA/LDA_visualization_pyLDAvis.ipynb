{
 "cells": [
  {
   "cell_type": "code",
   "execution_count": 1,
   "metadata": {
    "collapsed": false
   },
   "outputs": [
    {
     "name": "stderr",
     "output_type": "stream",
     "text": [
      "C:\\Anaconda2\\lib\\site-packages\\gensim\\utils.py:840: UserWarning: detected Windows; aliasing chunkize to chunkize_serial\n",
      "  warnings.warn(\"detected Windows; aliasing chunkize to chunkize_serial\")\n"
     ]
    }
   ],
   "source": [
    "import gensim\n",
    "from gensim import corpora, models, similarities\n",
    "\n",
    "#logging.basicConfig(format='%(asctime)s : %(levelname)s : %(message)s', level=logging.CRITICAL)\n",
    "\n",
    "lda = models.LdaModel.load('../Save/modelLDA.lda')\n",
    "dictionary = corpora.Dictionary.load('../Save/scopus_list.dict')\n",
    "corpus_tfidf = corpora.MmCorpus('../Save/scopus_corpus.mm')\n"
   ]
  },
  {
   "cell_type": "code",
   "execution_count": 2,
   "metadata": {
    "collapsed": false,
    "scrolled": true
   },
   "outputs": [
    {
     "data": {
      "text/plain": [
       "[(183,\n",
       "  u'0.040*\"threat\" + 0.030*\"cyber\" + 0.027*\"dr\" + 0.017*\"custom\" + 0.016*\"margin\" + 0.016*\"vulner\" + 0.014*\"scada\" + 0.012*\"express\" + 0.009*\"korean\" + 0.009*\"streamlin\"'),\n",
       " (89,\n",
       "  u'0.130*\"vvo\" + 0.035*\"engin\" + 0.032*\"volt\" + 0.024*\"platform\" + 0.022*\"ami\" + 0.021*\"quasi\" + 0.018*\"dm\" + 0.018*\"rtd\" + 0.015*\"node\" + 0.013*\"packag\"'),\n",
       " (163,\n",
       "  u'0.086*\"restor\" + 0.029*\"assist\" + 0.028*\"hard\" + 0.014*\"logist\" + 0.012*\"ca\" + 0.011*\"behavior\" + 0.010*\"extens\" + 0.009*\"separ\" + 0.008*\"safe\" + 0.008*\"resili\"'),\n",
       " (97,\n",
       "  u'0.060*\"imped\" + 0.034*\"instrument\" + 0.027*\"droop\" + 0.026*\"perturb\" + 0.024*\"necessit\" + 0.022*\"mvno\" + 0.022*\"spectrum\" + 0.022*\"interconnect\" + 0.020*\"assign\" + 0.019*\"represent\"'),\n",
       " (241,\n",
       "  u'0.030*\"criterion\" + 0.025*\"n\" + 0.020*\"conting\" + 0.018*\"secondari\" + 0.018*\"r\" + 0.015*\"mu\" + 0.014*\"risk\" + 0.013*\"bound\" + 0.013*\"credibl\" + 0.012*\"perfectli\"'),\n",
       " (16,\n",
       "  u'0.060*\"expans\" + 0.039*\"transmiss\" + 0.028*\"augment\" + 0.023*\"sensit\" + 0.020*\"human\" + 0.015*\"best\" + 0.015*\"vpn\" + 0.014*\"optimum\" + 0.014*\"option\" + 0.013*\"ubiquit\"'),\n",
       " (11,\n",
       "  u'0.066*\"j\" + 0.057*\"der\" + 0.027*\"privaci\" + 0.021*\"likewis\" + 0.021*\"enrol\" + 0.021*\"geograph\" + 0.018*\"unabl\" + 0.017*\"prosum\" + 0.015*\"ict\" + 0.014*\"sae\"'),\n",
       " (117,\n",
       "  u'0.040*\"em\" + 0.029*\"telecommun\" + 0.027*\"compress\" + 0.024*\"hold\" + 0.022*\"databas\" + 0.014*\"platform\" + 0.014*\"pnnl\" + 0.011*\"articl\" + 0.011*\"pair\" + 0.011*\"o\"'),\n",
       " (145,\n",
       "  u'0.027*\"whole\" + 0.020*\"heavi\" + 0.019*\"node\" + 0.019*\"explain\" + 0.017*\"optic\" + 0.014*\"center\" + 0.014*\"truck\" + 0.014*\"hybrid\" + 0.013*\"databas\" + 0.012*\"reap\"'),\n",
       " (196,\n",
       "  u'0.034*\"diagnost\" + 0.023*\"cloud\" + 0.015*\"openstack\" + 0.014*\"workload\" + 0.013*\"immens\" + 0.013*\"pressur\" + 0.010*\"huge\" + 0.010*\"promot\" + 0.009*\"handl\" + 0.009*\"baselin\"')]"
      ]
     },
     "execution_count": 2,
     "metadata": {},
     "output_type": "execute_result"
    }
   ],
   "source": [
    "lda.show_topics()"
   ]
  },
  {
   "cell_type": "code",
   "execution_count": null,
   "metadata": {
    "collapsed": false,
    "scrolled": false
   },
   "outputs": [],
   "source": [
    "import pyLDAvis.gensim\n",
    "pyLDAvis.enable_notebook()\n",
    "vis = pyLDAvis.gensim.prepare(lda, corpus_tfidf, dictionary)\n",
    "pyLDAvis.display(vis)\n",
    "#pyLDAvis.save_json(vis, '../Save/vis_html.json')\n",
    "#pyLDAvis.show(vis)\n",
    "#pyLDAvis.prepared_data_to_html(vis)\n",
    "#pyLDAvis.save_html(vis)"
   ]
  },
  {
   "cell_type": "code",
   "execution_count": null,
   "metadata": {
    "collapsed": true
   },
   "outputs": [],
   "source": []
  }
 ],
 "metadata": {
  "kernelspec": {
   "display_name": "Python 2",
   "language": "python",
   "name": "python2"
  },
  "language_info": {
   "codemirror_mode": {
    "name": "ipython",
    "version": 2
   },
   "file_extension": ".py",
   "mimetype": "text/x-python",
   "name": "python",
   "nbconvert_exporter": "python",
   "pygments_lexer": "ipython2",
   "version": "2.7.11"
  }
 },
 "nbformat": 4,
 "nbformat_minor": 0
}
